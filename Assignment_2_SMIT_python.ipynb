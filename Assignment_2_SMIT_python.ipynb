{
 "cells": [
  {
   "cell_type": "code",
   "execution_count": 11,
   "metadata": {},
   "outputs": [
    {
     "name": "stdout",
     "output_type": "stream",
     "text": [
      "Enter Subject Name 4 alphabets only : MATH\n",
      "Enter Marks : 96\n",
      "Enter Subject Name 4 alphabets only : ISLM\n",
      "Enter Marks : 85\n",
      "Enter Subject Name 4 alphabets only : PHYS\n",
      "Enter Marks : 56\n",
      "Enter Subject Name 4 alphabets only : BIOG\n",
      "Enter Marks : 89\n",
      "Enter Subject Name 4 alphabets only : CHEM\n",
      "Enter Marks : 67\n",
      "   \n",
      " Subject    Marks    Grade \n",
      "\n",
      "  MATH   |   96   |   A+\n",
      "\n",
      "  ISLM   |   85   |   A+\n",
      "\n",
      "  PHYS   |   56   |   C\n",
      "\n",
      "  BIOG   |   89   |   A+\n",
      "\n",
      "  CHEM   |   67   |   B\n",
      "\n",
      "TotalMarks: 393/500\n"
     ]
    }
   ],
   "source": [
    "# Question # 1\n",
    "\n",
    "a = [0,1,2,3,4];\n",
    "sum = 0;\n",
    "subj = [];\n",
    "marksList = [];\n",
    "grade = [];\n",
    "\n",
    "# Collecting Data\n",
    "for i in a:\n",
    "    sub=input(\"Enter Subject Name 4 alphabets only : \")\n",
    "    marks=int(input(\"Enter Marks : \"))\n",
    "    subj.append(sub)\n",
    "    marksList.append(marks)\n",
    "    \n",
    "# Evaluating Grades\n",
    "for i in marksList:\n",
    "    if i<50:\n",
    "        grade.append('D')\n",
    "    elif i<60:\n",
    "        grade.append('C')\n",
    "    elif i<70:\n",
    "        grade.append('B')\n",
    "    elif i<80:\n",
    "        grade.append('A')\n",
    "    else:\n",
    "        grade.append('A+')\n",
    "        \n",
    "# Evaluating Total Marks\n",
    "for i in marksList:\n",
    "    sum +=i \n",
    "sum=str(sum)\n",
    "\n",
    "print('   ')\n",
    "\n",
    "# MarkSheet\n",
    "print(' Subject    Marks    Grade \\n')        \n",
    "for i in a:\n",
    "    print('  '+subj[i]+'   |   '+str(marksList[i])+'   |   '+grade[i]+'\\n');\n",
    "print('TotalMarks: '+sum+'/500')"
   ]
  },
  {
   "cell_type": "code",
   "execution_count": 12,
   "metadata": {},
   "outputs": [
    {
     "name": "stdout",
     "output_type": "stream",
     "text": [
      "Enter Number To Check : 89\n",
      "The Given Number is Odd\n"
     ]
    }
   ],
   "source": [
    "# Question # 2\n",
    "\n",
    "Num = input(\"Enter Number To Check : \");\n",
    "numToStr = int(Num);\n",
    "if numToStr%2 == 0:\n",
    "    print(\"The Given Number is Even\")\n",
    "else:\n",
    "    print(\"The Given Number is Odd\")\n"
   ]
  },
  {
   "cell_type": "code",
   "execution_count": 18,
   "metadata": {},
   "outputs": [
    {
     "name": "stdout",
     "output_type": "stream",
     "text": [
      "Hence The Length of Array is 11\n"
     ]
    }
   ],
   "source": [
    "# Question # 3\n",
    "\n",
    "a = [1, 1, 2, 3, 5, 8, 13, 21, 34, 55, 89];\n",
    "len=0\n",
    "for i in a:\n",
    "    len+=1\n",
    "print('Hence The Length of Array is '+str(len))    "
   ]
  },
  {
   "cell_type": "code",
   "execution_count": 20,
   "metadata": {},
   "outputs": [
    {
     "name": "stdout",
     "output_type": "stream",
     "text": [
      "Hence The Sum of All The Element Of Array is 232\n"
     ]
    }
   ],
   "source": [
    "# Question # 4\n",
    "\n",
    "a = [1, 1, 2, 3, 5, 8, 13, 21, 34, 55, 89]\n",
    "sum = 0\n",
    "for i in a:\n",
    "    sum +=i \n",
    "print('Hence The Sum of All The Element Of Array is '+str(sum))"
   ]
  },
  {
   "cell_type": "code",
   "execution_count": 25,
   "metadata": {},
   "outputs": [
    {
     "name": "stdout",
     "output_type": "stream",
     "text": [
      "Hence The Largest Number in the Array is 89\n"
     ]
    }
   ],
   "source": [
    "# Question # 5\n",
    "\n",
    "a = [1, 1, 2, 3, 5, 8, 13, 21, 34, 55, 89];\n",
    "print('Hence The Largest Number in the Array is '+ str( max(a) ) )"
   ]
  },
  {
   "cell_type": "code",
   "execution_count": 16,
   "metadata": {},
   "outputs": [
    {
     "name": "stdout",
     "output_type": "stream",
     "text": [
      "[1, 1, 2, 3]\n"
     ]
    }
   ],
   "source": [
    "# Question # 6\n",
    "\n",
    "a = [1, 1, 2, 3, 5, 8, 13, 21, 34, 55, 89];\n",
    "arr=[];\n",
    "for i in a:\n",
    "    if i<5:\n",
    "        arr.append(i)\n",
    "print(arr)"
   ]
  }
 ],
 "metadata": {
  "kernelspec": {
   "display_name": "Python 3",
   "language": "python",
   "name": "python3"
  },
  "language_info": {
   "codemirror_mode": {
    "name": "ipython",
    "version": 3
   },
   "file_extension": ".py",
   "mimetype": "text/x-python",
   "name": "python",
   "nbconvert_exporter": "python",
   "pygments_lexer": "ipython3",
   "version": "3.7.4"
  }
 },
 "nbformat": 4,
 "nbformat_minor": 2
}
