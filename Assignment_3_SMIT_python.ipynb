{
 "cells": [
  {
   "cell_type": "code",
   "execution_count": 15,
   "metadata": {},
   "outputs": [
    {
     "name": "stdout",
     "output_type": "stream",
     "text": [
      "Enter First Value :10\n",
      "Enter Second Value :19\n",
      "Enter the operation to be performed :/\n",
      "0.5263157894736842\n"
     ]
    }
   ],
   "source": [
    "# Question#1\n",
    "# Calculator\n",
    "val1 = int(input('Enter First Value :'));\n",
    "val2 = int(input('Enter Second Value :'));\n",
    "operation = input('Enter the operation to be performed :');\n",
    "ans = 0 ;\n",
    "\n",
    "if operation == '+':\n",
    "    ans=val1+val2\n",
    "    print(ans)\n",
    "elif operation == '-':\n",
    "    ans=val1-val2\n",
    "    print(ans)\n",
    "elif operation == '/':\n",
    "    ans=val1/val2\n",
    "    print(ans)\n",
    "elif operation == '*':\n",
    "    ans=val1*val2\n",
    "    print(ans)\n",
    "else:\n",
    "    print\n",
    "    ('error operation is wrong input')"
   ]
  },
  {
   "cell_type": "code",
   "execution_count": 20,
   "metadata": {},
   "outputs": [
    {
     "name": "stdout",
     "output_type": "stream",
     "text": [
      "MATHS is a not numeric value\n",
      "90 is a numeric value\n",
      "PHYSICS is a not numeric value\n",
      "85 is a numeric value\n",
      "CHEMISTRY is a not numeric value\n",
      "87 is a numeric value\n"
     ]
    }
   ],
   "source": [
    "# Question # 2\n",
    "# checking for numeric and non numeric values in list\n",
    "\n",
    "a=['MATHS',90,'PHYSICS',85,'CHEMISTRY',87];\n",
    "\n",
    "for i in a:\n",
    "    if isinstance(i,str) == True:\n",
    "        print(str(i)+' is a not numeric value')\n",
    "    else:\n",
    "        print(str(i) +' is a numeric value')"
   ]
  },
  {
   "cell_type": "code",
   "execution_count": 18,
   "metadata": {},
   "outputs": [
    {
     "name": "stdout",
     "output_type": "stream",
     "text": [
      "Question # 3 \n",
      "Has been covered with Question # 6 below\n"
     ]
    }
   ],
   "source": [
    "# Question # 3 \n",
    "# Has been covered with Question # 6 below\n",
    "print('Question # 3 \\nHas been covered with Question # 6 below')"
   ]
  },
  {
   "cell_type": "code",
   "execution_count": 17,
   "metadata": {},
   "outputs": [
    {
     "name": "stdout",
     "output_type": "stream",
     "text": [
      "The Total Marks of Student is 409/500\n"
     ]
    }
   ],
   "source": [
    "# Question # 4\n",
    "# Sum of all numeric element in Dictionary\n",
    "# This is the example of a student marks record and the total marks have been calculated in this dictionary \n",
    "StudentMarksRecord = {\n",
    "    'Name':'Anas',\n",
    "    'Roll#':'25',\n",
    "    'Maths':91,\n",
    "    'English':70,\n",
    "    'Science':90,\n",
    "    'Urdu':65,\n",
    "    'Islamiat':93,\n",
    "    'status':'Passed',\n",
    "    'Grade':'A'\n",
    "}\n",
    "\n",
    "TotalMarks=0\n",
    "\n",
    "for i in StudentMarksRecord.values():\n",
    "    if isinstance(i,int) == True :\n",
    "        TotalMarks += i\n",
    "\n",
    "print('The Total Marks of Student is '+str(TotalMarks)+'/500')"
   ]
  },
  {
   "cell_type": "code",
   "execution_count": 19,
   "metadata": {},
   "outputs": [
    {
     "name": "stdout",
     "output_type": "stream",
     "text": [
      "Salman Ali Rehan has same Age : 25 years\n",
      "Umar Abdullah has same Age : 18 years\n",
      "Anas Shahid has same Age : 24 years\n"
     ]
    }
   ],
   "source": [
    "# Question # 5\n",
    "# Check for Duplicates value\n",
    "# In this question Taken A sample of ages of different student and at the end find students with same ages\n",
    "\n",
    "StudentAge = {\n",
    "    'Muhammad ':21,\n",
    "    'Salman ':25,\n",
    "    'Irfan ':19,\n",
    "    'Umar ':18,\n",
    "    'Ali ':25,\n",
    "    'Anas ':24,\n",
    "    'Shahid ':24,\n",
    "    'Abdullah ':18,\n",
    "    'Zeeshan ':30,\n",
    "    'Rehan ':25\n",
    "}\n",
    "\n",
    "Duplicate={}\n",
    "\n",
    "# Adding duplicate data\n",
    "for key,value in StudentAge.items():\n",
    "    if value not in Duplicate:\n",
    "        Duplicate[value]=[key]\n",
    "    else:\n",
    "        Duplicate[value].append(key)\n",
    "\n",
    "# Deleting unuseful data\n",
    "a=[]\n",
    "for key,val in Duplicate.items():\n",
    "    if len(val) == 1:\n",
    "        a.append(key)\n",
    "for i in a :\n",
    "    del Duplicate[i]\n",
    "\n",
    "# printing statement\n",
    "string1=''\n",
    "for key,val in Duplicate.items():\n",
    "    keystr=str(key)\n",
    "    print(string1.join(val)+'has same Age : '+str(key)+' years')\n",
    "        "
   ]
  },
  {
   "cell_type": "code",
   "execution_count": 12,
   "metadata": {},
   "outputs": [
    {
     "name": "stdout",
     "output_type": "stream",
     "text": [
      "Record Updated\n",
      "Try Another Name. This Name Already Exist\n"
     ]
    }
   ],
   "source": [
    "# Question # 6 & Question # 3\n",
    "# Adding key & checking for duplicate key\n",
    "# Here we are adding ages of student with unique name. if that name exist in the record( Duplicate key ) record is not updated\n",
    "\n",
    "def studentAgeRecord(Name,Age):\n",
    "    NameAdjustment = str.capitalize(Name)+' '\n",
    "    AgeAdjustment = int(Age)\n",
    "    if NameAdjustment not in StudentAge:\n",
    "        StudentAge[NameAdjustment]=AgeAdjustment\n",
    "        print('Record Updated')\n",
    "    else:\n",
    "        print('Try Another Name. This Name Already Exist')\n",
    "    \n",
    "# Adding key\n",
    "studentAgeRecord('khan','43')\n",
    "# Record not updated as duplicate key exist\n",
    "studentAgeRecord('salman','45')"
   ]
  },
  {
   "cell_type": "code",
   "execution_count": null,
   "metadata": {},
   "outputs": [],
   "source": []
  }
 ],
 "metadata": {
  "kernelspec": {
   "display_name": "Python 3",
   "language": "python",
   "name": "python3"
  },
  "language_info": {
   "codemirror_mode": {
    "name": "ipython",
    "version": 3
   },
   "file_extension": ".py",
   "mimetype": "text/x-python",
   "name": "python",
   "nbconvert_exporter": "python",
   "pygments_lexer": "ipython3",
   "version": "3.7.4"
  }
 },
 "nbformat": 4,
 "nbformat_minor": 2
}
