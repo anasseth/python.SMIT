{
 "cells": [
  {
   "cell_type": "code",
   "execution_count": 24,
   "metadata": {},
   "outputs": [
    {
     "name": "stdout",
     "output_type": "stream",
     "text": [
      "Twinkle, twinkle, little star,\n",
      "      How I wonder what you are!\n",
      "            Up above the world so high,\n",
      "            Like a diamond in the sky.\n",
      "Twinkle, twinkle, little star,\n",
      "      How I wonder what you are!\n"
     ]
    }
   ],
   "source": [
    "# Question 1\n",
    "\n",
    "x='   ';\n",
    "line1 = 'Twinkle, twinkle, little star,' \n",
    "line2 = 'How I wonder what you are!'\n",
    "line3= 'Up above the world so high,'\n",
    "line4= 'Like a diamond in the sky.'\n",
    "\n",
    "print(line1+'\\n'+2*x+line2+'\\n'+4*x+line3+'\\n'+4*x+line4+'\\n'+line1+'\\n'+2*x+line2);"
   ]
  },
  {
   "cell_type": "code",
   "execution_count": 25,
   "metadata": {},
   "outputs": [
    {
     "name": "stdout",
     "output_type": "stream",
     "text": [
      "3.7.4 (default, Aug  9 2019, 18:22:51) [MSC v.1915 32 bit (Intel)]\n"
     ]
    }
   ],
   "source": [
    "# Question 2\n",
    "\n",
    "import sys\n",
    "# Python Version\n",
    "print(sys.version)"
   ]
  },
  {
   "cell_type": "code",
   "execution_count": 26,
   "metadata": {},
   "outputs": [
    {
     "name": "stdout",
     "output_type": "stream",
     "text": [
      "Current date and time: \n",
      "2019-11-05 19:54:08.239917\n"
     ]
    }
   ],
   "source": [
    "# Question 3\n",
    "\n",
    "import datetime;\n",
    "now = datetime.datetime.now();\n",
    "print(\"Current date and time: \");\n",
    "print(str(now));"
   ]
  },
  {
   "cell_type": "code",
   "execution_count": 2,
   "metadata": {},
   "outputs": [
    {
     "name": "stdout",
     "output_type": "stream",
     "text": [
      "50.272 ft^2\n"
     ]
    }
   ],
   "source": [
    "# Question 4\n",
    "\n",
    "def areaOfCircle(radiusOfCircle,unitOfMeasurement):\n",
    "    pi = 3.142\n",
    "    area = str(pi*radiusOfCircle**2);\n",
    "    print(area+' '+unitOfMeasurement+'^2');\n",
    "\n",
    "areaOfCircle(4,'ft')\n",
    "    "
   ]
  },
  {
   "cell_type": "code",
   "execution_count": 28,
   "metadata": {},
   "outputs": [
    {
     "name": "stdout",
     "output_type": "stream",
     "text": [
      "Anas Muhammad\n"
     ]
    }
   ],
   "source": [
    "# Question 5\n",
    "\n",
    "def reverseName(firstName,lastName):\n",
    "    print(lastName+' '+firstName);\n",
    "\n",
    "reverseName('Muhammad','Anas')    "
   ]
  },
  {
   "cell_type": "code",
   "execution_count": 29,
   "metadata": {},
   "outputs": [
    {
     "name": "stdout",
     "output_type": "stream",
     "text": [
      "3\n"
     ]
    }
   ],
   "source": [
    "# Question 6\n",
    "\n",
    "def add(num1,num2):\n",
    "    print(num1+num2);\n",
    "\n",
    "add(2,1)"
   ]
  },
  {
   "cell_type": "code",
   "execution_count": null,
   "metadata": {},
   "outputs": [],
   "source": []
  }
 ],
 "metadata": {
  "kernelspec": {
   "display_name": "Python 3",
   "language": "python",
   "name": "python3"
  },
  "language_info": {
   "codemirror_mode": {
    "name": "ipython",
    "version": 3
   },
   "file_extension": ".py",
   "mimetype": "text/x-python",
   "name": "python",
   "nbconvert_exporter": "python",
   "pygments_lexer": "ipython3",
   "version": "3.7.4"
  }
 },
 "nbformat": 4,
 "nbformat_minor": 2
}
