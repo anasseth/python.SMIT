{
 "cells": [
  {
   "cell_type": "code",
   "execution_count": 12,
   "metadata": {},
   "outputs": [
    {
     "name": "stdout",
     "output_type": "stream",
     "text": [
      "6\n"
     ]
    }
   ],
   "source": [
    "#Question 01\n",
    "number=3\n",
    "factorial=1\n",
    "for i in range(1,number+1):\n",
    "    factorial=factorial*i\n",
    "print(factorial)"
   ]
  },
  {
   "cell_type": "code",
   "execution_count": 10,
   "metadata": {},
   "outputs": [
    {
     "name": "stdout",
     "output_type": "stream",
     "text": [
      "Enter word : KJJOOipopokjkJIKnoHUohNb UHJiiJIoUpoI]\n",
      "word has 18 upper & 20 lower case letter\n"
     ]
    }
   ],
   "source": [
    "#Question 02\n",
    "word=input('Enter word : ')\n",
    "upperCase=0\n",
    "lowerCase=0\n",
    "for i in word:\n",
    "    if i.isupper():\n",
    "        upperCase += 1\n",
    "    else:\n",
    "        lowerCase += 1\n",
    "print('word has '+str(upperCase)+' upper & '+str(lowerCase)+' lower case letter')"
   ]
  },
  {
   "cell_type": "code",
   "execution_count": 8,
   "metadata": {},
   "outputs": [
    {
     "name": "stdout",
     "output_type": "stream",
     "text": [
      "2\n",
      "4\n",
      "8\n",
      "102\n",
      "90\n"
     ]
    }
   ],
   "source": [
    "#Question 03\n",
    "a=[1,2,4,5,7,9,8,102,87,77,43,90]\n",
    "for i in a :\n",
    "    if (i%2 == 0):\n",
    "        print(i)\n"
   ]
  },
  {
   "cell_type": "code",
   "execution_count": 19,
   "metadata": {},
   "outputs": [
    {
     "name": "stdout",
     "output_type": "stream",
     "text": [
      "The word is Palindrome\n"
     ]
    }
   ],
   "source": [
    "#Question 04\n",
    "word='hellolleh'\n",
    "revWord=''\n",
    "for i in reversed(word):\n",
    "    revWord=revWord+i\n",
    "if revWord==word:\n",
    "    print('The word is Palindrome')\n",
    "else:\n",
    "    print('The word is *Not* Palindrome')"
   ]
  },
  {
   "cell_type": "code",
   "execution_count": 32,
   "metadata": {},
   "outputs": [
    {
     "name": "stdout",
     "output_type": "stream",
     "text": [
      "Enter Number : 31\n",
      "The Number is Prime\n"
     ]
    }
   ],
   "source": [
    "#Question 05\n",
    "num = int(input('Enter Number : '))\n",
    "for i in range(2,num):\n",
    "    if num%i==0:\n",
    "        msg='The Number is not a Prime'\n",
    "        break\n",
    "    else:\n",
    "        msg='The Number is Prime'\n",
    "print(msg)"
   ]
  },
  {
   "cell_type": "code",
   "execution_count": 7,
   "metadata": {},
   "outputs": [
    {
     "name": "stdout",
     "output_type": "stream",
     "text": [
      "Bread\n",
      "Butter\n",
      "Apple Jam\n",
      "Donut\n",
      "IceCream\n"
     ]
    }
   ],
   "source": [
    "#Question 06\n",
    "def shoppingList(*items):  \n",
    "    for item in items:  \n",
    "        print (item) \n",
    "    \n",
    "shoppingList('Bread','Butter','Apple Jam','Donut','IceCream')\n"
   ]
  },
  {
   "cell_type": "code",
   "execution_count": null,
   "metadata": {},
   "outputs": [],
   "source": []
  }
 ],
 "metadata": {
  "kernelspec": {
   "display_name": "Python 3",
   "language": "python",
   "name": "python3"
  },
  "language_info": {
   "codemirror_mode": {
    "name": "ipython",
    "version": 3
   },
   "file_extension": ".py",
   "mimetype": "text/x-python",
   "name": "python",
   "nbconvert_exporter": "python",
   "pygments_lexer": "ipython3",
   "version": "3.7.4"
  }
 },
 "nbformat": 4,
 "nbformat_minor": 2
}
